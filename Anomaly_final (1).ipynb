{
  "cells": [
    {
      "cell_type": "code",
      "execution_count": null,
      "metadata": {
        "id": "U-_j1Ig0_zVm"
      },
      "outputs": [],
      "source": [
        "!pip install pycaret"
      ]
    },
    {
      "cell_type": "code",
      "execution_count": null,
      "metadata": {
        "id": "MGKs0XXU_0Rv"
      },
      "outputs": [],
      "source": [
        "import pandas as pd\n",
        "data=pd.read_csv('/content/data.csv')\n",
        "data=data[['2','3','4']].rename(columns={'2':'current_1','3':'current_2','4':'current_3'})\n",
        "data.head()"
      ]
    },
    {
      "cell_type": "code",
      "execution_count": null,
      "metadata": {
        "id": "LtDhOXh6A025"
      },
      "outputs": [],
      "source": [
        "data['current_1_r1000'] = data['current_1'].rolling(500).mean()\n",
        "# data['MA336'] = data['current_2'].rolling(336).mean()\n",
        "# plot \n",
        "import plotly.express as px\n",
        "fig = px.line(data, x=data.index.values, y=['current_1', 'current_1_r1000'], title='test', template = 'plotly_dark')\n",
        "fig.show()"
      ]
    },
    {
      "cell_type": "code",
      "execution_count": null,
      "metadata": {
        "id": "CFEqvp9MBTEx"
      },
      "outputs": [],
      "source": [
        "import numpy as np\n",
        "\n",
        "# Define window size and sliding step\n",
        "window_size = 500\n",
        "step = 250\n",
        "\n",
        "# Define statistical features to be calculated for each window\n",
        "features = ['mean', 'std', 'min', 'max']\n",
        "\n",
        "# Preprocess the data\n",
        "X = []\n",
        "for i in range(0, len(data), step): #-window_size from len(data)\n",
        "    window = data.iloc[i:i+window_size]\n",
        "\n",
        "    x = []\n",
        "    for col in ['current_1', 'current_2', 'current_3']:\n",
        "        for f in features:\n",
        "            x.append(getattr(window[col], f)())\n",
        "    X.append(x)\n",
        "X = np.array(X)\n"
      ]
    },
    {
      "cell_type": "code",
      "execution_count": null,
      "metadata": {
        "id": "Fulx4ilaC3wG"
      },
      "outputs": [],
      "source": [
        "df=pd.DataFrame(X)\n",
        "df.head()"
      ]
    },
    {
      "cell_type": "code",
      "execution_count": null,
      "metadata": {
        "id": "nzznOZC1GrAA"
      },
      "outputs": [],
      "source": [
        "temp=pd.concate(data,X)"
      ]
    },
    {
      "cell_type": "code",
      "execution_count": null,
      "metadata": {
        "id": "YWy5jxvZC3s5"
      },
      "outputs": [],
      "source": [
        "! pip install --force-reinstall -v NumPy==1.19"
      ]
    },
    {
      "cell_type": "code",
      "execution_count": null,
      "metadata": {
        "id": "pnT4-z_ZFKWK"
      },
      "outputs": [],
      "source": [
        "! pip install numba==0.53"
      ]
    },
    {
      "cell_type": "code",
      "execution_count": null,
      "metadata": {
        "id": "KQPTPMEuG83I"
      },
      "outputs": [],
      "source": [
        "data.drop(['current_1_r10000'\t,'current_1_r1000'],axis=1,inplace=True)"
      ]
    },
    {
      "cell_type": "code",
      "execution_count": null,
      "metadata": {
        "id": "KUqLKsMZHoEh"
      },
      "outputs": [],
      "source": [
        "data.head()"
      ]
    },
    {
      "cell_type": "code",
      "execution_count": null,
      "metadata": {
        "id": "D2cW2dzlC3qB"
      },
      "outputs": [],
      "source": [
        "from pycaret.anomaly import *\n",
        "s = setup(data, session_id = 123)"
      ]
    },
    {
      "cell_type": "code",
      "execution_count": null,
      "metadata": {
        "id": "XjYgat8yDhSe"
      },
      "outputs": [],
      "source": [
        "models()"
      ]
    },
    {
      "cell_type": "code",
      "execution_count": null,
      "metadata": {
        "colab": {
          "background_save": true
        },
        "id": "AwcZpCT1Ee30"
      },
      "outputs": [],
      "source": [
        "# train model\n",
        "iforest = create_model('iforest', fraction = 0.1)\n",
        "iforest_results = assign_model(iforest)\n",
        "iforest_results.head()"
      ]
    },
    {
      "cell_type": "code",
      "execution_count": null,
      "metadata": {
        "id": "SDWmfk-PFwL2"
      },
      "outputs": [],
      "source": [
        "iforest_results[iforest_results['Anomaly'] == 1].head()"
      ]
    },
    {
      "cell_type": "code",
      "execution_count": null,
      "metadata": {
        "colab": {
          "background_save": true
        },
        "id": "Po4ng8f6F16W"
      },
      "outputs": [],
      "source": [
        "import plotly.graph_objects as go\n",
        "# plot value on y-axis and date on x-axis\n",
        "fig = px.line(iforest_results, x=iforest_results.index, y=\"current_1\", title=' ANOMALY DETECTION', template = 'plotly_dark')\n",
        "# create list of outlier_dates\n",
        "outlier_dates = iforest_results[iforest_results['Anomaly'] == 1].index\n",
        "# obtain y value of anomalies to plot\n",
        "y_values = [iforest_results.loc[i]['current_1'] for i in outlier_dates]\n",
        "fig.add_trace(go.Scatter(x=outlier_dates, y=y_values, mode = 'markers', \n",
        "                name = 'Anomaly', \n",
        "                marker=dict(color='red',size=10)))\n",
        "        \n",
        "fig.show()"
      ]
    },
    {
      "cell_type": "code",
      "execution_count": null,
      "metadata": {
        "colab": {
          "background_save": true
        },
        "id": "sE4wNdlUIUv4"
      },
      "outputs": [],
      "source": []
    }
  ],
  "metadata": {
    "colab": {
      "provenance": []
    },
    "kernelspec": {
      "display_name": "Python 3",
      "name": "python3"
    },
    "language_info": {
      "name": "python"
    }
  },
  "nbformat": 4,
  "nbformat_minor": 0
}